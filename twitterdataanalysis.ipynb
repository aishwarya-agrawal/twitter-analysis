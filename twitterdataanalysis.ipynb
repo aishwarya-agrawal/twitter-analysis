{
 "cells": [
  {
   "cell_type": "code",
   "execution_count": 3,
   "metadata": {},
   "outputs": [],
   "source": [
    "import tweepy\n",
    "from tkinter import *\n",
    "import tkinter\n",
    "from time import sleep\n",
    "from datetime import datetime\n",
    "from textblob import TextBlob\n",
    "import matplotlib.pyplot as plt"
   ]
  },
  {
   "cell_type": "code",
   "execution_count": 4,
   "metadata": {},
   "outputs": [],
   "source": [
    "#Authentication\n",
    "consumer_key =''\n",
    "consumer_secret = ''\n",
    "access_token = ''\n",
    "access_token_secret = ''\n",
    "\n",
    "auth = tweepy.OAuthHandler(consumer_key, consumer_secret)\n",
    "auth.set_access_token(access_token, access_token_secret)\n",
    "api = tweepy.API(auth,wait_on_rate_limit=True)"
   ]
  },
  {
   "cell_type": "code",
   "execution_count": 6,
   "metadata": {},
   "outputs": [],
   "source": [
    "l ='@narendramodi'\n",
    "tweets1 = []\n",
    "for status in tweepy.Cursor(api.user_timeline,screen_name=l,tweet_mode =  \"extended\").items(10):\n",
    "    tweets1.append(status)"
   ]
  },
  {
   "cell_type": "code",
   "execution_count": 7,
   "metadata": {},
   "outputs": [
    {
     "data": {
      "text/plain": [
       "'In Dandi, a unique tribute to Bapu and brave Satyagrahis. https://t.co/1hP36UrSUO'"
      ]
     },
     "execution_count": 7,
     "metadata": {},
     "output_type": "execute_result"
    }
   ],
   "source": [
    "tweets1[0].full_text"
   ]
  },
  {
   "cell_type": "code",
   "execution_count": null,
   "metadata": {},
   "outputs": [],
   "source": [
    "#demo run before putting into loop\n",
    "tweet_id = tweets1[0].id\n",
    "replies = []\n",
    "for page in tweepy.Cursor(api.search,q=\"@narendramodi\",since_id = tweet_id).pages():\n",
    "    for status in page:\n",
    "        if status.in_reply_to_status_id == tweet_id: \n",
    "            replies.append(status)\n",
    "            print(status.text)\n",
    "            "
   ]
  },
  {
   "cell_type": "code",
   "execution_count": null,
   "metadata": {},
   "outputs": [],
   "source": [
    "#demo run before putting into loop\n",
    "import matplotlib.pyplot as plt\n",
    "polarity_list = []\n",
    "numbers_list = []\n",
    "number = 0\n",
    "for i in replies:\n",
    "    try:\n",
    "        analysis = TextBlob(i.text)\n",
    "        analysis = analysis.sentiment\n",
    "        polarity = analysis.polarity\n",
    "        polarity_list.append(polarity)\n",
    "        numbers_list.append(number)\n",
    "        number = number + 1\n",
    "\n",
    "    except tweepy.TweepError as e:\n",
    "        print(e.reason)\n",
    "    except StopIteration:\n",
    "        break\n",
    "\n",
    "#Plotting\n",
    "axes = plt.gca()\n",
    "axes.set_ylim([-1, 2])\n",
    "\n",
    "plt.scatter(numbers_list, polarity_list)\n",
    "\n",
    "averagePolarity = (sum(polarity_list))/(len(polarity_list))\n",
    "averagePolarity = \"{0:.0f}%\".format(averagePolarity * 100)\n",
    "time  = datetime.now().strftime(\"At: %H:%M\\nOn: %m-%d-%y\")\n",
    "\n",
    "plt.text(0, 1.25, \"Average Sentiment:  \" + str(averagePolarity) + \"\\n\" + time, fontsize=12, bbox = dict(facecolor='none', edgecolor='black', boxstyle='square, pad = 1'))\n",
    "\n",
    "plt.title(\"Sentiment of \" + tweets1[0].text + \" on Twitter\")\n",
    "plt.xlabel(\"Number of Tweets\")\n",
    "plt.ylabel(\"Sentiment\")\n",
    "plt.show()"
   ]
  },
  {
   "cell_type": "code",
   "execution_count": 8,
   "metadata": {},
   "outputs": [],
   "source": [
    "def plotfunc(tweet,replies):\n",
    "    polarity_list = []\n",
    "    numbers_list = []\n",
    "    number = 0\n",
    "    for i in replies:\n",
    "        try:\n",
    "            print('analysing for sentiment analysis')\n",
    "            analysis = TextBlob(i.text)\n",
    "            analysis = analysis.sentiment\n",
    "            polarity = analysis.polarity\n",
    "            polarity_list.append(polarity)\n",
    "            numbers_list.append(number)\n",
    "            number = number + 1\n",
    "\n",
    "        except tweepy.TweepError as e:\n",
    "            print(e.reason)\n",
    "        except StopIteration:\n",
    "            break\n",
    "    \n",
    "#Plotting\n",
    "    axes = plt.gca()\n",
    "    axes.set_ylim([-1, 2])\n",
    "\n",
    "    plt.scatter(numbers_list, polarity_list)\n",
    "\n",
    "    averagePolarity = (sum(polarity_list))/(len(polarity_list))\n",
    "    averagePolarity = \"{0:.0f}%\".format(averagePolarity * 100)\n",
    "    time  = datetime.now().strftime(\"At: %H:%M\\nOn: %m-%d-%y\")\n",
    "\n",
    "    plt.text(0, 1.25, \"Average Sentiment:  \" + str(averagePolarity) + \"\\n\" + time, fontsize=12, bbox = dict(facecolor='none', edgecolor='black', boxstyle='square, pad = 1'))\n",
    "\n",
    "    plt.title(\"Sentiment of\"+tweet.text+\"on Twitter\")\n",
    "    plt.xlabel(\"Number of Tweets\")\n",
    "    plt.ylabel(\"Sentiment\")\n",
    "    plt.show()"
   ]
  },
  {
   "cell_type": "code",
   "execution_count": 10,
   "metadata": {},
   "outputs": [
    {
     "name": "stdout",
     "output_type": "stream",
     "text": [
      "@narendramodi बीएड़ टैट 2011,योगी सरकार की वादाखिलाफी से परेशान। https://t.co/Qw1KyCgdFn\n"
     ]
    },
    {
     "ename": "AttributeError",
     "evalue": "'Status' object has no attribute 'text'",
     "output_type": "error",
     "traceback": [
      "\u001b[0;31m---------------------------------------------------------------------------\u001b[0m",
      "\u001b[0;31mAttributeError\u001b[0m                            Traceback (most recent call last)",
      "\u001b[0;32m<ipython-input-10-2dc0887fe35f>\u001b[0m in \u001b[0;36m<module>\u001b[0;34m()\u001b[0m\n\u001b[1;32m     12\u001b[0m                 \u001b[0;32mwith\u001b[0m \u001b[0mopen\u001b[0m\u001b[0;34m(\u001b[0m\u001b[0;34m'comments.csv'\u001b[0m\u001b[0;34m,\u001b[0m\u001b[0;34m'a'\u001b[0m\u001b[0;34m)\u001b[0m \u001b[0;32mas\u001b[0m \u001b[0mf\u001b[0m\u001b[0;34m:\u001b[0m\u001b[0;34m\u001b[0m\u001b[0;34m\u001b[0m\u001b[0m\n\u001b[1;32m     13\u001b[0m                     \u001b[0mwriter\u001b[0m \u001b[0;34m=\u001b[0m \u001b[0mcsv\u001b[0m\u001b[0;34m.\u001b[0m\u001b[0mwriter\u001b[0m\u001b[0;34m(\u001b[0m\u001b[0mf\u001b[0m\u001b[0;34m)\u001b[0m\u001b[0;34m\u001b[0m\u001b[0;34m\u001b[0m\u001b[0m\n\u001b[0;32m---> 14\u001b[0;31m                     \u001b[0mwriter\u001b[0m\u001b[0;34m.\u001b[0m\u001b[0mwriterows\u001b[0m\u001b[0;34m(\u001b[0m\u001b[0;34m[\u001b[0m\u001b[0mtweet\u001b[0m\u001b[0;34m.\u001b[0m\u001b[0mtext\u001b[0m\u001b[0;34m,\u001b[0m\u001b[0mstatus\u001b[0m\u001b[0;34m.\u001b[0m\u001b[0mfull_text\u001b[0m\u001b[0;34m,\u001b[0m\u001b[0mstatus\u001b[0m\u001b[0;34m.\u001b[0m\u001b[0mauthor\u001b[0m\u001b[0;34m.\u001b[0m\u001b[0mscreen_name\u001b[0m\u001b[0;34m]\u001b[0m\u001b[0;34m)\u001b[0m\u001b[0;34m\u001b[0m\u001b[0;34m\u001b[0m\u001b[0m\n\u001b[0m\u001b[1;32m     15\u001b[0m                 \u001b[0mf\u001b[0m\u001b[0;34m.\u001b[0m\u001b[0mclose\u001b[0m\u001b[0;34m(\u001b[0m\u001b[0;34m)\u001b[0m\u001b[0;34m\u001b[0m\u001b[0;34m\u001b[0m\u001b[0m\n\u001b[1;32m     16\u001b[0m     \u001b[0mprint\u001b[0m\u001b[0;34m(\u001b[0m\u001b[0;34m'reached out of first loop'\u001b[0m\u001b[0;34m)\u001b[0m\u001b[0;34m\u001b[0m\u001b[0;34m\u001b[0m\u001b[0m\n",
      "\u001b[0;31mAttributeError\u001b[0m: 'Status' object has no attribute 'text'"
     ]
    }
   ],
   "source": [
    "import csv\n",
    "import json\n",
    "for tweet in tweets1:\n",
    "    tweet_id = tweet.id\n",
    "    replies = []\n",
    "    counts = 0\n",
    "    for page in tweepy.Cursor(api.search,q=\"@narendramodi\",since_id = tweet_id,tweet_mode=\"extended\").pages():\n",
    "        for status in page:\n",
    "            if status.in_reply_to_status_id == tweet_id: \n",
    "                replies.append(status)\n",
    "                print(status.full_text)\n",
    "                with open('comments.csv','a') as f:\n",
    "                    writer = csv.writer(f)\n",
    "                    writer.writerows([tweet.text,status.full_text,status.author.screen_name])\n",
    "                f.close()       \n",
    "    print('reached out of first loop')\n",
    "    plotfunc(tweet,replies)"
   ]
  }
 ],
 "metadata": {
  "kernelspec": {
   "display_name": "Python 3",
   "language": "python",
   "name": "python3"
  },
  "language_info": {
   "codemirror_mode": {
    "name": "ipython",
    "version": 3
   },
   "file_extension": ".py",
   "mimetype": "text/x-python",
   "name": "python",
   "nbconvert_exporter": "python",
   "pygments_lexer": "ipython3",
   "version": "3.7.2"
  }
 },
 "nbformat": 4,
 "nbformat_minor": 2
}
