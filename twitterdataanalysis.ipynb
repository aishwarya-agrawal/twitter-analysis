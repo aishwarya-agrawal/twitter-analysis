{
 "cells": [
  {
   "cell_type": "code",
   "execution_count": null,
   "metadata": {},
   "outputs": [],
   "source": [
    "import tweepy\n",
    "from tkinter import *\n",
    "import tkinter\n",
    "from time import sleep\n",
    "from datetime import datetime\n",
    "from textblob import TextBlob\n",
    "import matplotlib.pyplot as plt"
   ]
  },
  {
   "cell_type": "code",
   "execution_count": null,
   "metadata": {},
   "outputs": [],
   "source": [
    "#Authentication\n",
    "\n",
    "auth = tweepy.OAuthHandler(consumer_key, consumer_secret)\n",
    "auth.set_access_token(access_token, access_token_secret)\n",
    "api = tweepy.API(auth,wait_on_rate_limit=True)"
   ]
  },
  {
   "cell_type": "code",
   "execution_count": null,
   "metadata": {},
   "outputs": [],
   "source": [
    "import csv\n",
    "l ='@RahulGandhi'\n",
    "tweets1 = []\n",
    "backoff_counter = 0\n",
    "try:\n",
    "    for status in tweepy.Cursor(api.user_timeline,screen_name=l,tweet_mode =  \"extended\").items(100):\n",
    "        tweets1.append(status)\n",
    "except tweepy.TweepError as e:\n",
    "    print(e.reason)\n",
    "    sleep(60*backoff_counter)\n",
    "    backoff_counter += 1"
   ]
  },
  {
   "cell_type": "code",
   "execution_count": null,
   "metadata": {},
   "outputs": [],
   "source": [
    "tweet_id = []\n",
    "for tweet in tweets1:\n",
    "    tweet_id.append(tweet.id)"
   ]
  },
  {
   "cell_type": "code",
   "execution_count": null,
   "metadata": {},
   "outputs": [],
   "source": [
    "print(max(tweet_id)-min(tweet_id))"
   ]
  },
  {
   "cell_type": "code",
   "execution_count": null,
   "metadata": {},
   "outputs": [],
   "source": [
    "with open('tweets.csv','a') as f:\n",
    "    writer = csv.writer(f)\n",
    "    a = [tweets1]\n",
    "    writer.writerows(a)"
   ]
  },
  {
   "cell_type": "code",
   "execution_count": null,
   "metadata": {},
   "outputs": [],
   "source": [
    "def plotfunc(tweet,replies):\n",
    "    polarity_list = []\n",
    "    numbers_list = []\n",
    "    number = 0\n",
    "    for i in replies:\n",
    "        try:\n",
    "            print('analysing for sentiment analysis')\n",
    "            analysis = TextBlob(i.full_text)\n",
    "            analysis = analysis.sentiment\n",
    "            polarity = analysis.polarity\n",
    "            polarity_list.append(polarity)\n",
    "            numbers_list.append(number)\n",
    "            number = number + 1\n",
    "        except tweepy.TweepError as e:\n",
    "            print(e.reason)\n",
    "        except StopIteration:\n",
    "            break\n",
    "    \n",
    "#Plotting\n",
    "    axes = plt.gca()\n",
    "    axes.set_ylim([-1, 2])\n",
    "\n",
    "    plt.scatter(numbers_list, polarity_list)\n",
    "\n",
    "    averagePolarity = (sum(polarity_list))/(len(polarity_list))\n",
    "    averagePolarity = \"{0:.0f}%\".format(averagePolarity * 100)\n",
    "    time  = datetime.now().strftime(\"At: %H:%M\\nOn: %m-%d-%y\")\n",
    "\n",
    "    plt.text(0, 1.25, \"Average Sentiment:  \" + str(averagePolarity) + \"\\n\" + time, fontsize=12, bbox = dict(facecolor='none', edgecolor='black', boxstyle='square, pad = 1'))\n",
    "\n",
    "    plt.title(\"Sentiment of\"+tweet.text+\"on Twitter\")\n",
    "    plt.xlabel(\"Number of Tweets\")\n",
    "    plt.ylabel(\"Sentiment\")\n",
    "    plt.show()"
   ]
  },
  {
   "cell_type": "code",
   "execution_count": null,
   "metadata": {},
   "outputs": [],
   "source": []
  },
  {
   "cell_type": "code",
   "execution_count": null,
   "metadata": {},
   "outputs": [],
   "source": [
    "replies=[] \n",
    "non_bmp_map = dict.fromkeys(range(0x10000, sys.maxunicode + 1), 0xfffd)\n",
    "\n",
    "for full_tweets in tweepy.Cursor(api.user_timeline,screen_name='RahulGandhi',timeout=999999,max_id = 1089854868175638528).items(100):\n",
    "    for tweet in tweepy.Cursor(api.search,q='to:RahulGandhi', since_id=full_tweets.id, result_type='recent',timeout=999999).items(1000):\n",
    "        if hasattr(tweet, 'in_reply_to_status_id_str'):\n",
    "            if (tweet.in_reply_to_status_id_str==full_tweets.id_str):\n",
    "                t = [tweet.text,tweet.author.screen_name,tweet.created_at]\n",
    "                with open('comments4.csv','a') as f:\n",
    "                    writer= csv.writer(f)\n",
    "                    row = [full_tweets.id,tweet.text]\n",
    "                    writer.writerows([row])\n",
    "                    replies.append(tweet.text)\n",
    "    print(\"Tweet :\",full_tweets.text.translate(non_bmp_map))\n",
    "    for elements in replies:\n",
    "        print(\"Replies :\",elements)\n",
    "    replies.clear()"
   ]
  },
  {
   "cell_type": "code",
   "execution_count": null,
   "metadata": {},
   "outputs": [],
   "source": []
  },
  {
   "cell_type": "code",
   "execution_count": null,
   "metadata": {},
   "outputs": [],
   "source": []
  },
  {
   "cell_type": "code",
   "execution_count": null,
   "metadata": {},
   "outputs": [],
   "source": [
    "import pandas as pd\n",
    "from textblob  import TextBlob\n",
    "df = pd.read_csv('comments4.csv')\n",
    "df.size"
   ]
  },
  {
   "cell_type": "code",
   "execution_count": null,
   "metadata": {},
   "outputs": [],
   "source": []
  }
 ],
 "metadata": {
  "kernelspec": {
   "display_name": "Python 3",
   "language": "python",
   "name": "python3"
  },
  "language_info": {
   "codemirror_mode": {
    "name": "ipython",
    "version": 3
   },
   "file_extension": ".py",
   "mimetype": "text/x-python",
   "name": "python",
   "nbconvert_exporter": "python",
   "pygments_lexer": "ipython3",
   "version": "3.7.2"
  }
 },
 "nbformat": 4,
 "nbformat_minor": 2
}
